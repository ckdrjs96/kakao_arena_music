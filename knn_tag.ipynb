{
 "cells": [
  {
   "cell_type": "code",
   "execution_count": 4,
   "metadata": {},
   "outputs": [],
   "source": [
    "import pandas as pd\n",
    "import numpy as np\n",
    "import sys, json, os, io\n",
    "from tqdm import tqdm\n",
    "import distutils.dir_util\n",
    "from collections import Counter"
   ]
  },
  {
   "cell_type": "code",
   "execution_count": 18,
   "metadata": {},
   "outputs": [],
   "source": [
    "class naiveknn:\n",
    "    \n",
    "    def __init__(self, play_list=None, val_list=None, song_meta=None, debug=False):\n",
    "        train = pd.read_json(play_list, encoding = 'utf-8')\n",
    "        val = pd.read_json(val_list, encoding = 'utf-8')\n",
    "        self.train_songs = train.songs\n",
    "        self.train_tags = train.tags\n",
    "        self.val_tags = val.tags\n",
    "        self.val_songs = val.songs\n",
    "        self.ids = val.id\n",
    "        \n",
    "\n",
    "        self.debug = debug\n",
    "        if debug: pass\n",
    "        else: self.predict()\n",
    "        \n",
    "    def write_json(self, data, fname):\n",
    "        def _conv(o):\n",
    "            if isinstance(o, (np.int64, np.int32)):\n",
    "                return int(o)\n",
    "            raise TypeError\n",
    "        \n",
    "        parent = os.path.dirname(fname)\n",
    "        distutils.dir_util.mkpath(\"./\" + parent)\n",
    "        \n",
    "        with io.open(\"./\" + fname, \"w\", encoding=\"utf-8\") as f:\n",
    "            json_str = json.dumps(data, ensure_ascii=False, default=_conv)\n",
    "            f.write(json_str)\n",
    "\n",
    "    def calculate(self, i, k=100, top=100):\n",
    "        \n",
    "        V = [set(lst) for lst in self.train_songs]\n",
    "        u = set(self.val_songs[i])\n",
    "        z = set(self.val_tags[i])\n",
    "        song_set = set()\n",
    "        tag_set = set()\n",
    "        while (len(song_set) < 100):\n",
    "            S = np.array([len(u & v) for v in V])\n",
    "            top_k = S.argsort()[-k:]\n",
    "            \n",
    "            song_list = []\n",
    "            tag_list = []\n",
    "            for v in top_k:\n",
    "                song_list += self.train_songs[v]\n",
    "                tag_list += self.train_tags[v]\n",
    "                song_set = set(song_list) - u\n",
    "            \n",
    "            c=Counter(tag_list).most_common(30)\n",
    "            tag_set = [a for a,b in c if a not in z]\n",
    "            if len(song_set) <100:\n",
    "                k = k + 100\n",
    "        \n",
    "        norm = S[top_k].sum()\n",
    "        if norm == 0:\n",
    "            norm = 1\n",
    "        \n",
    "        r_u = [(i, np.array([S[v] if i in V[v] else 0 for v in top_k]).sum() / norm) for i in song_set]\n",
    "        result = sorted(r_u, key=(lambda x: x[1]))\n",
    "        similar_songs = [x[0] for x in result[-top:]][::-1]\n",
    "        \n",
    "        similar_tags = tag_set[:10]\n",
    "\n",
    "        return similar_songs, similar_tags\n",
    "    \n",
    "    \n",
    "    def predict(self):\n",
    "        result = []\n",
    "        for i, v in tqdm(enumerate(self.val_songs)):\n",
    "            a, b = self.calculate(i)\n",
    "            result.append({\n",
    "                \"id\" : int(self.ids[i]),\n",
    "                \"songs\" : a,\n",
    "                \"tags\" : b,\n",
    "                \n",
    "            })\n",
    "        \n",
    "        self.write_json(result, \"results.json\")"
   ]
  },
  {
   "cell_type": "code",
   "execution_count": 19,
   "metadata": {},
   "outputs": [
    {
     "name": "stderr",
     "output_type": "stream",
     "text": [
      "23015it [11:06:48,  1.74s/it] \n"
     ]
    }
   ],
   "source": [
    "knn = naiveknn('train.json', 'val.json', 'song_meta.json')"
   ]
  },
  {
   "cell_type": "code",
   "execution_count": null,
   "metadata": {},
   "outputs": [],
   "source": []
  },
  {
   "cell_type": "code",
   "execution_count": null,
   "metadata": {},
   "outputs": [],
   "source": []
  },
  {
   "cell_type": "code",
   "execution_count": null,
   "metadata": {},
   "outputs": [],
   "source": []
  },
  {
   "cell_type": "code",
   "execution_count": null,
   "metadata": {},
   "outputs": [],
   "source": []
  }
 ],
 "metadata": {
  "kernelspec": {
   "display_name": "Python 3",
   "language": "python",
   "name": "python3"
  },
  "language_info": {
   "codemirror_mode": {
    "name": "ipython",
    "version": 3
   },
   "file_extension": ".py",
   "mimetype": "text/x-python",
   "name": "python",
   "nbconvert_exporter": "python",
   "pygments_lexer": "ipython3",
   "version": "3.7.3"
  }
 },
 "nbformat": 4,
 "nbformat_minor": 2
}
